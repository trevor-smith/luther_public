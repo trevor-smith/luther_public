{
 "cells": [
  {
   "cell_type": "code",
   "execution_count": 1,
   "metadata": {
    "collapsed": true
   },
   "outputs": [],
   "source": [
    "# import packages\n",
    "import urllib2\n",
    "from bs4 import BeautifulSoup\n",
    "import re"
   ]
  },
  {
   "cell_type": "code",
   "execution_count": 2,
   "metadata": {
    "collapsed": true
   },
   "outputs": [],
   "source": [
    "# step 1\n",
    "# getting the list of all the domestic urls to scrape\n",
    "url_domestic_list = []\n",
    "page_number = range(0,135)\n",
    "for i in page_number:\n",
    "    url_domestic_list.append(\"http://www.boxofficemojo.com/alltime/domestic.htm?page=\" + str(page_number[i]) + \"&p=.htm\")"
   ]
  },
  {
   "cell_type": "code",
   "execution_count": 3,
   "metadata": {
    "collapsed": true
   },
   "outputs": [],
   "source": [
    "# step 2       \n",
    "# looping through all the domestic url pages and scraping the movie urls\n",
    "id_list = []\n",
    "movie_url_to_scrape = []\n",
    "for url in url_domestic_list:\n",
    "    page_domestic = urllib2.urlopen(url)\n",
    "    soup_domestic = BeautifulSoup(page_domestic)\n",
    "    # need to encode this as utf-8 or else it throws error\n",
    "    # for the a attribute, look for hrefs that start with '/movies/?'\n",
    "    href_movie_tags = [(a.attrs.get('href')).encode('utf-8') for a in soup_domestic.select('a[href^/movies/?]')]\n",
    "    # splitting the hrefs based on movie id\n",
    "    href_movie_tags_split = [i.split('id', 1) for i in href_movie_tags]\n",
    "    # create a list of only the movie ids\n",
    "    for i in href_movie_tags_split[:-1]:\n",
    "        id_list.append(i[1])\n",
    "    id_list_unique = set(id_list)\n",
    "\t# creating the list of movie urls that we will be scraping\n",
    "    for id in id_list:\n",
    "        movie_url_to_scrape.append(\"http://www.boxofficemojo.com/movies/?id\" + id)\n",
    "    movie_url_to_scrape_unique = set(movie_url_to_scrape)"
   ]
  },
  {
   "cell_type": "code",
   "execution_count": 9,
   "metadata": {
    "collapsed": false
   },
   "outputs": [
    {
     "name": "stdout",
     "output_type": "stream",
     "text": [
      "<type 'set'>\n"
     ]
    }
   ],
   "source": [
    "print type(movie_url_to_scrape_unique)"
   ]
  },
  {
   "cell_type": "code",
   "execution_count": 10,
   "metadata": {
    "collapsed": true
   },
   "outputs": [],
   "source": [
    "list_of_movie_urls = list(movie_url_to_scrape_unique)"
   ]
  },
  {
   "cell_type": "code",
   "execution_count": 11,
   "metadata": {
    "collapsed": false
   },
   "outputs": [
    {
     "data": {
      "text/plain": [
       "['http://www.boxofficemojo.com/movies/?id=gratefuldawg.htm',\n",
       " 'http://www.boxofficemojo.com/movies/?id=shrek2.htm',\n",
       " 'http://www.boxofficemojo.com/movies/?id=portdjema.htm',\n",
       " 'http://www.boxofficemojo.com/movies/?id=september.htm',\n",
       " 'http://www.boxofficemojo.com/movies/?id=fantasticks.htm']"
      ]
     },
     "execution_count": 11,
     "metadata": {},
     "output_type": "execute_result"
    }
   ],
   "source": [
    "list_of_movie_urls[:5]"
   ]
  },
  {
   "cell_type": "code",
   "execution_count": 12,
   "metadata": {
    "collapsed": true
   },
   "outputs": [],
   "source": [
    "import pickle"
   ]
  },
  {
   "cell_type": "code",
   "execution_count": 13,
   "metadata": {
    "collapsed": true
   },
   "outputs": [],
   "source": [
    "with open('list_of_movie_urls.pkl', 'w') as f:\n",
    "    pickle.dump(list_of_movie_urls, f)"
   ]
  },
  {
   "cell_type": "code",
   "execution_count": 14,
   "metadata": {
    "collapsed": true
   },
   "outputs": [],
   "source": [
    "#with open('list_of_movie_urls.pkl', 'r') as f:\n",
    "    #x = pickle.load(f)"
   ]
  },
  {
   "cell_type": "code",
   "execution_count": 17,
   "metadata": {
    "collapsed": false
   },
   "outputs": [],
   "source": [
    "url = \"http://www.boxofficemojo.com/movies/?page=intl&id=fiveyearengagement.htm\""
   ]
  },
  {
   "cell_type": "code",
   "execution_count": 18,
   "metadata": {
    "collapsed": true
   },
   "outputs": [],
   "source": [
    "page_foreign_5year = urllib2.urlopen(url)"
   ]
  },
  {
   "cell_type": "code",
   "execution_count": 19,
   "metadata": {
    "collapsed": true
   },
   "outputs": [],
   "source": [
    "soup_foreign_5year = BeautifulSoup(page_foreign_5year)"
   ]
  },
  {
   "cell_type": "code",
   "execution_count": 24,
   "metadata": {
    "collapsed": false
   },
   "outputs": [],
   "source": [
    "#print soup_foreign_5year.find('div')"
   ]
  },
  {
   "cell_type": "code",
   "execution_count": 26,
   "metadata": {
    "collapsed": false
   },
   "outputs": [
    {
     "ename": "NameError",
     "evalue": "name 'div' is not defined",
     "output_type": "error",
     "traceback": [
      "\u001b[0;31m---------------------------------------------------------------------------\u001b[0m",
      "\u001b[0;31mNameError\u001b[0m                                 Traceback (most recent call last)",
      "\u001b[0;32m<ipython-input-26-ebd2ff53c980>\u001b[0m in \u001b[0;36m<module>\u001b[0;34m()\u001b[0m\n\u001b[0;32m----> 1\u001b[0;31m \u001b[0mhref_movie_tags\u001b[0m \u001b[0;34m=\u001b[0m \u001b[0;34m[\u001b[0m\u001b[0;34m(\u001b[0m\u001b[0mdiv\u001b[0m\u001b[0;34m.\u001b[0m\u001b[0mattrs\u001b[0m\u001b[0;34m.\u001b[0m\u001b[0mget\u001b[0m\u001b[0;34m(\u001b[0m\u001b[0;34m'div'\u001b[0m\u001b[0;34m)\u001b[0m\u001b[0;34m)\u001b[0m\u001b[0;34m.\u001b[0m\u001b[0mencode\u001b[0m\u001b[0;34m(\u001b[0m\u001b[0;34m'utf-8'\u001b[0m\u001b[0;34m)\u001b[0m \u001b[0;32mfor\u001b[0m \u001b[0ma\u001b[0m \u001b[0;32min\u001b[0m \u001b[0msoup_foreign_5year\u001b[0m\u001b[0;34m.\u001b[0m\u001b[0mselect\u001b[0m\u001b[0;34m(\u001b[0m\u001b[0;34m'div[id^body]'\u001b[0m\u001b[0;34m)\u001b[0m\u001b[0;34m]\u001b[0m\u001b[0;34m\u001b[0m\u001b[0m\n\u001b[0m",
      "\u001b[0;31mNameError\u001b[0m: name 'div' is not defined"
     ]
    }
   ],
   "source": [
    "href_movie_tags = [(div.attrs.get('div')).encode('utf-8') for a in soup_foreign_5year.select('div[id^body]')]"
   ]
  },
  {
   "cell_type": "code",
   "execution_count": 29,
   "metadata": {
    "collapsed": false
   },
   "outputs": [
    {
     "name": "stdout",
     "output_type": "stream",
     "text": [
      "\n",
      "\n",
      "\n",
      "\n",
      "The Five-Year Engagement (2012) - International Box Office Results - Box Office Mojo\n",
      "\n",
      "table.chart-wide { width: 100%; }\n",
      "\n",
      "\n",
      "\n",
      "\n",
      "\n",
      "\n",
      "\n",
      "\n",
      "\n",
      "\n",
      "    setTimeout(function(){\n",
      "        try{\n",
      "            //sis3.0 pixel\n",
      "            var cacheBust = Math.random() * 10000000000000000,\n",
      "                url_sis3 = 'http://s.amazon-adsystem.com/iu3?',\n",
      "                params_sis3 = [\n",
      "                    \"d=boxofficemojo.com\",\n",
      "                    \"cb=\" + cacheBust\n",
      "                ];\n",
      "\n",
      "            (document.getElementById('sis_pixel_sitewide')).src = url_sis3 + params_sis3.join('&');\n",
      "        }catch(e){\n",
      "            if (window.ueLogError) { \n",
      "                window.ueLogError(e);\n",
      "            }\n",
      "        }\n",
      "    }, 5);\n",
      "\n",
      "\n",
      "\n",
      "\n",
      "\n",
      "\n",
      "  var _gaq = _gaq || [];\n",
      "  _gaq.push(['_setAccount', 'UA-2831726-1']);\n",
      "  _gaq.push(['_trackPageview']);\n",
      "\n",
      "  (function() {\n",
      "    var ga = document.createElement('script'); ga.type = 'text/javascript'; ga.async = true;\n",
      "    ga.src = ('https:' == document.location.protocol ? 'https://ssl' : 'http://www') + '.google-analytics.com/ga.js';\n",
      "    (document.getElementsByTagName('head')[0] || document.getElementsByTagName('body')[0]).appendChild(ga);\n",
      "  })();\n",
      "\n",
      "\n",
      "\n",
      "\n",
      "\n",
      "Daily Box Office (Mon.) | Weekend Box Office (Apr. 10–12) | #1 Movie: 'Furious 7' | Showtimes\n",
      "Updated 4/14/2015 4:25 P.M. Pacific Time\n",
      "\n",
      "\n",
      "\n",
      "\n",
      "\n",
      "\r\n",
      "//<![CDATA[\r\n",
      "ord=1202685506;\r\n",
      "document.write('<iframe src=\"http://ad.doubleclick.net/N4215/adi/imdb2.bom.movie/;p=t;tile=1;sz=728x90;oe=ISO-8859-1;ord=' + ord + '?\" width=\"728\" height=\"90\" marginwidth=\"0\" marginheight=\"0\" frameborder=\"0\" scrolling=\"no\">');\r\n",
      "\r\n",
      "if (navigator.userAgent.indexOf(\"Gecko\")==-1)\r\n",
      "{\r\n",
      "document.write('<script type=\"text/javascript\" src=\"http://ad.doubleclick.net/N4215/adj/imdb2.bom.movie/;p=t;tile=1;sz=728x90;abr=!ie;oe=ISO-8859-1;ord=' + ord + '?\"><\\/script>');\r\n",
      "}\r\n",
      "document.write('<\\/iframe>');\r\n",
      "//]]>\r\n",
      "\n",
      "\n",
      " \n",
      "\n",
      "\n",
      "\n",
      "\n",
      "\n",
      "\n",
      "\n",
      "\n",
      "\n",
      "Search Site\n",
      "\n",
      "\n",
      "\n",
      "\n",
      "\n",
      "Social\n",
      "Facebook\n",
      "Twitter\n",
      "Features\n",
      "News\n",
      "Release Sched.\n",
      "Showtimesat \n",
      "Box Office\n",
      "Daily\n",
      "Weekend\n",
      "Weekly\n",
      "Monthly\n",
      "Quarterly\n",
      "Seasonal\n",
      "Yearly\n",
      "All Time\n",
      "Chart Watch\n",
      "International\n",
      "Indices\n",
      "Movies A-Z\n",
      "Studios\n",
      "People\n",
      "Genres\n",
      "Franchises\n",
      "Showdowns\n",
      "Oscar\n",
      "Theater Counts\n",
      "\n",
      "\n",
      "\n",
      "\n",
      "\n",
      "\n",
      "\n",
      "\n",
      "\n",
      "\n",
      "\n",
      " THE FIVE-YEAR ENGAGEMENT\n",
      "\n",
      "Domestic Total Gross: $28,835,528Distributor: UniversalRelease Date: April 27, 2012Genre: ComedyRuntime: 2 hrs. 4 min.MPAA Rating: RProduction Budget: $30 million\n",
      "\n",
      "\n",
      "\r\n",
      "//<![CDATA[\r\n",
      "ord=1202685506;\r\n",
      "document.write('<iframe src=\"http://ad.doubleclick.net/N4215/adi/imdb2.bom.movie/;p=rh;tile=2;sz=300x250;oe=ISO-8859-1;ord=' + ord + '?\" width=\"300\" height=\"250\" marginwidth=\"0\" marginheight=\"0\" frameborder=\"0\" scrolling=\"no\">');\r\n",
      "\r\n",
      "if (navigator.userAgent.indexOf(\"Gecko\")==-1)\r\n",
      "{\r\n",
      "document.write('<script type=\"text/javascript\" src=\"http://ad.doubleclick.net/N4215/adj/imdb2.bom.movie/;p=rh;tile=2;sz=300x250;abr=!ie;oe=ISO-8859-1;ord=' + ord + '?\"><\\/script>');\r\n",
      "}\r\n",
      "document.write('</iframe>');\r\n",
      "//]]>\r\n",
      "\n",
      "\n",
      "\n",
      "\n",
      "\n",
      "\n",
      "Summary\n",
      "Daily\n",
      "Weekend\n",
      "Weekly\n",
      "Foreign\n",
      "Similar Movies\n",
      "Images\n",
      "\n",
      "View: BY COUNTRY  | BY WEEKENDCountry(click to view weekend breakdown)Dist.ReleaseDateOpeningWknd% ofTotalTotal Gross / As OfFOREIGN TOTAL\n",
      "-\n",
      "6/3/12\n",
      "n/a\n",
      "-\n",
      "$25,074,223\n",
      "9/30/12\n",
      "\n",
      "Australia\n",
      "UPI\n",
      "5/3/12\n",
      "$1,980,607\n",
      "31.2%\n",
      "$6,353,823\n",
      "6/10/12\n",
      "\n",
      "Austria\n",
      "UPI\n",
      "7/13/12\n",
      "$342,930\n",
      "30.4%\n",
      "$1,126,806\n",
      "8/26/12\n",
      "\n",
      "Belgium\n",
      "UPI\n",
      "8/1/12\n",
      "$37,966\n",
      "37.2%\n",
      "$102,102\n",
      "9/2/12\n",
      "\n",
      "Croatia\n",
      "UIP\n",
      "6/21/12\n",
      "-\n",
      "-\n",
      "$44,480\n",
      "8/5/12\n",
      "\n",
      "Egypt\n",
      "UIP\n",
      "7/4/12\n",
      "-\n",
      "-\n",
      "$58,086\n",
      "8/19/12\n",
      "\n",
      "France\n",
      "UPI\n",
      "8/1/12\n",
      "$109,842\n",
      "100%\n",
      "$109,842\n",
      "8/5/12\n",
      "\n",
      "Germany\n",
      "UPI\n",
      "7/12/12\n",
      "$1,346,375\n",
      "28.2%\n",
      "$4,777,603\n",
      "8/26/12\n",
      "\n",
      "Iceland\n",
      "UIP\n",
      "5/11/12\n",
      "$11,062\n",
      "28.4%\n",
      "$38,952\n",
      "6/10/12\n",
      "\n",
      "Israel\n",
      "UIP\n",
      "7/5/12\n",
      "$83,788\n",
      "25.7%\n",
      "$326,058\n",
      "8/5/12\n",
      "\n",
      "Italy\n",
      "UPI\n",
      "9/27/12\n",
      "$151,797\n",
      "54.4%\n",
      "$278,869\n",
      "10/7/12\n",
      "\n",
      "Lebanon\n",
      "UIP\n",
      "5/17/12\n",
      "$23,579\n",
      "44.1%\n",
      "$53,434\n",
      "6/3/12\n",
      "\n",
      "Mexico\n",
      "-\n",
      "8/10/12\n",
      "$249,993\n",
      "25.8%\n",
      "$968,967\n",
      "9/30/12\n",
      "\n",
      "Netherlands\n",
      "UPI\n",
      "6/28/12\n",
      "$24,125\n",
      "54.9%\n",
      "$43,908\n",
      "7/1/12\n",
      "\n",
      "New Zealand\n",
      "UIP\n",
      "5/3/12\n",
      "$213,188\n",
      "32.5%\n",
      "$655,404\n",
      "6/10/12\n",
      "\n",
      "Peru\n",
      "UPI\n",
      "11/29/12\n",
      "$60,108\n",
      "33.2%\n",
      "$181,141\n",
      "2/24/13\n",
      "\n",
      "Poland\n",
      "UIP\n",
      "6/29/12\n",
      "$44,575\n",
      "28.3%\n",
      "$157,569\n",
      "7/15/12\n",
      "\n",
      "Portugal\n",
      "Lusomundo\n",
      "5/10/12\n",
      "$43,809\n",
      "39.5%\n",
      "$110,927\n",
      "6/17/12\n",
      "\n",
      "Russia - CIS\n",
      "UPI\n",
      "6/28/12\n",
      "$411,641\n",
      "53.3%\n",
      "$772,370\n",
      "7/22/12\n",
      "\n",
      "Slovenia\n",
      "UIP\n",
      "6/14/12\n",
      "$5,881\n",
      "9%\n",
      "$65,088\n",
      "8/5/12\n",
      "\n",
      "South Africa (Entire Region)\n",
      "UIP\n",
      "10/5/12\n",
      "$41,972\n",
      "17.1%\n",
      "$246,165\n",
      "12/23/12\n",
      "\n",
      "Spain\n",
      "UIP\n",
      "9/7/12\n",
      "$179,875\n",
      "42.4%\n",
      "$424,622\n",
      "10/28/12\n",
      "\n",
      "United Arab Emirates\n",
      "UIP\n",
      "5/10/12\n",
      "$155,466\n",
      "44.3%\n",
      "$350,666\n",
      "6/3/12\n",
      "\n",
      "United Kingdom\n",
      "UPI\n",
      "6/22/12\n",
      "$1,651,044\n",
      "21.3%\n",
      "$7,743,125\n",
      "8/12/12\n",
      "\n",
      "Uruguay\n",
      "UPI\n",
      "4/5/13\n",
      "$7,985\n",
      "48.1%\n",
      "$16,595\n",
      "5/19/13\n",
      "\n",
      "Venezuela\n",
      "UIP\n",
      "3/15/13\n",
      "$109,486\n",
      "33.5%\n",
      "$327,233\n",
      "5/12/13\n",
      "\n",
      "\n",
      "\n",
      "\n",
      "\n",
      "\n",
      "\n",
      "\n",
      "\n",
      "Latest Updates\n",
      "Movie News\n",
      "Daily Chart\n",
      "Weekend Chart\n",
      "All Time Charts\n",
      "International Charts\n",
      "\n",
      "\n",
      "\n",
      "Indices\n",
      "Movies A-Z\n",
      "People\n",
      "Genres\n",
      "Franchises\n",
      "Showdowns\n",
      "\n",
      "\n",
      "Other\n",
      "About This Site\n",
      "Advertising\n",
      "My Account\n",
      "RSS Feeds\n",
      "\n",
      "\n",
      "\n",
      "\n",
      "An  company\n",
      "© IMDb.com, Inc. or its affiliates. All rights reserved. Box Office Mojo and IMDb are trademarks or registered trademarks of IMDb.com, Inc. or its affiliates. Terms of Use and Privacy Policy under which this service is provided to you.\n",
      "\n",
      "\n",
      "\n",
      "\n",
      "\n",
      "\r\n",
      "//<![CDATA[\r\n",
      "ord=1202685506;\r\n",
      "document.write('<iframe src=\"http://ad.doubleclick.net/N4215/adi/imdb2.bom.movie/;p=b;tile=3;sz=728x90;oe=ISO-8859-1;ord=' + ord + '?\" width=\"728\" height=\"90\" marginwidth=\"0\" marginheight=\"0\" frameborder=\"0\" scrolling=\"no\">');\r\n",
      "\r\n",
      "if (navigator.userAgent.indexOf(\"Gecko\")==-1)\r\n",
      "{\r\n",
      "document.write('<script type=\"text/javascript\" src=\"http://ad.doubleclick.net/N4215/adj/imdb2.bom.movie/;p=b;tile=3;sz=728x90;abr=!ie;oe=ISO-8859-1;ord=' + ord + '?\"><\\/script>');\r\n",
      "}\r\n",
      "document.write('<\\/iframe>');\r\n",
      "//]]>\r\n",
      "\n",
      "\n",
      "\n",
      "\n",
      "\n",
      "\n",
      "\n",
      "\n",
      "  var _comscore = _comscore || [];\n",
      "  _comscore.push({ c1: \"2\", c2: \"6034961\" });\n",
      "  (function() {\n",
      "    var s = document.createElement(\"script\"), el = document.getElementsByTagName(\"script\")[0]; s.async = true;\n",
      "    s.src = (document.location.protocol == \"https:\" ? \"https://sb\" : \"http://b\") + \".scorecardresearch.com/beacon.js\";\n",
      "  el.parentNode.insertBefore(s, el);\n",
      "  })();\n",
      "\n",
      "\n",
      "\n",
      "\n",
      "\n",
      "\n",
      "\n"
     ]
    }
   ],
   "source": [
    "print soup_foreign_5year.get_text()"
   ]
  },
  {
   "cell_type": "code",
   "execution_count": null,
   "metadata": {
    "collapsed": true
   },
   "outputs": [],
   "source": []
  },
  {
   "cell_type": "code",
   "execution_count": 101,
   "metadata": {
    "collapsed": false
   },
   "outputs": [
    {
     "data": {
      "text/plain": [
       "<tr bgcolor=\"#f4f4ff\"><td><font size=\"2\"><b><a href=\"/movies/?page=intl&amp;country=AU&amp;id=fiveyearengagement.htm\">Australia</a></b></font></td>\n",
       "<td><font size=\"2\">UPI</font></td>\n",
       "<td align=\"center\"><font size=\"2\">5/3/12</font></td>\n",
       "<td align=\"right\"><font size=\"2\">$1,980,607</font></td>\n",
       "<td align=\"right\"><font size=\"2\">31.2%</font></td>\n",
       "<td align=\"right\"><font size=\"2\"><b>$6,353,823</b></font></td>\n",
       "<td align=\"center\"><font size=\"2\">6/10/12</font></td>\n",
       "</tr>"
      ]
     },
     "execution_count": 101,
     "metadata": {},
     "output_type": "execute_result"
    }
   ],
   "source": [
    "soup_foreign_5year.find('tr', bgcolor=\"#f4f4ff\")"
   ]
  },
  {
   "cell_type": "code",
   "execution_count": 104,
   "metadata": {
    "collapsed": false
   },
   "outputs": [],
   "source": [
    "table1 = soup_foreign_5year.find('tr', bgcolor=\"#ffffff\")"
   ]
  },
  {
   "cell_type": "code",
   "execution_count": 117,
   "metadata": {
    "collapsed": false
   },
   "outputs": [],
   "source": [
    "table2 = table1.find('b')"
   ]
  },
  {
   "cell_type": "code",
   "execution_count": 118,
   "metadata": {
    "collapsed": false
   },
   "outputs": [
    {
     "name": "stdout",
     "output_type": "stream",
     "text": [
      "<b>$28,835,528</b>\n"
     ]
    }
   ],
   "source": [
    "print table2"
   ]
  },
  {
   "cell_type": "code",
   "execution_count": 148,
   "metadata": {
    "collapsed": false
   },
   "outputs": [],
   "source": [
    "rows = soup_foreign_5year.find('table', border=\"3\").find('tr').find_all(bgcolor=\"#ffffff\")"
   ]
  },
  {
   "cell_type": "code",
   "execution_count": 149,
   "metadata": {
    "collapsed": false
   },
   "outputs": [
    {
     "data": {
      "text/plain": [
       "[<tr bgcolor=\"#ffffff\"><td><font size=\"2\"><b><a href=\"/movies/?page=intl&amp;country=00&amp;id=fiveyearengagement.htm\">FOREIGN TOTAL</a></b></font></td>\n",
       " <td><font size=\"2\">-</font></td>\n",
       " <td align=\"center\"><font size=\"2\">6/3/12</font></td>\n",
       " <td align=\"right\"><font size=\"2\">n/a</font></td>\n",
       " <td align=\"right\"><font size=\"2\">-</font></td>\n",
       " <td align=\"right\"><font size=\"2\"><b>$25,074,223</b></font></td>\n",
       " <td align=\"center\"><font size=\"2\">9/30/12</font></td>\n",
       " </tr>,\n",
       " <tr bgcolor=\"#ffffff\"><td><font size=\"2\"><b><a href=\"/movies/?page=intl&amp;country=AT&amp;id=fiveyearengagement.htm\">Austria</a></b></font></td>\n",
       " <td><font size=\"2\">UPI</font></td>\n",
       " <td align=\"center\"><font size=\"2\">7/13/12</font></td>\n",
       " <td align=\"right\"><font size=\"2\">$342,930</font></td>\n",
       " <td align=\"right\"><font size=\"2\">30.4%</font></td>\n",
       " <td align=\"right\"><font size=\"2\"><b>$1,126,806</b></font></td>\n",
       " <td align=\"center\"><font size=\"2\">8/26/12</font></td>\n",
       " </tr>,\n",
       " <tr bgcolor=\"#ffffff\"><td><font size=\"2\"><b><a href=\"/movies/?page=intl&amp;country=HR&amp;id=fiveyearengagement.htm\">Croatia</a></b></font></td>\n",
       " <td><font size=\"2\">UIP</font></td>\n",
       " <td align=\"center\"><font size=\"2\">6/21/12</font></td>\n",
       " <td align=\"right\"><font size=\"2\">-</font></td>\n",
       " <td align=\"right\"><font size=\"2\">-</font></td>\n",
       " <td align=\"right\"><font size=\"2\"><b>$44,480</b></font></td>\n",
       " <td align=\"center\"><font size=\"2\">8/5/12</font></td>\n",
       " </tr>,\n",
       " <tr bgcolor=\"#ffffff\"><td><font size=\"2\"><b><a href=\"/movies/?page=intl&amp;country=FR&amp;id=fiveyearengagement.htm\">France</a></b></font></td>\n",
       " <td><font size=\"2\">UPI</font></td>\n",
       " <td align=\"center\"><font size=\"2\">8/1/12</font></td>\n",
       " <td align=\"right\"><font size=\"2\">$109,842</font></td>\n",
       " <td align=\"right\"><font size=\"2\">100%</font></td>\n",
       " <td align=\"right\"><font size=\"2\"><b>$109,842</b></font></td>\n",
       " <td align=\"center\"><font size=\"2\">8/5/12</font></td>\n",
       " </tr>,\n",
       " <tr bgcolor=\"#ffffff\"><td><font size=\"2\"><b><a href=\"/movies/?page=intl&amp;country=IS&amp;id=fiveyearengagement.htm\">Iceland</a></b></font></td>\n",
       " <td><font size=\"2\">UIP</font></td>\n",
       " <td align=\"center\"><font size=\"2\">5/11/12</font></td>\n",
       " <td align=\"right\"><font size=\"2\">$11,062</font></td>\n",
       " <td align=\"right\"><font size=\"2\">28.4%</font></td>\n",
       " <td align=\"right\"><font size=\"2\"><b>$38,952</b></font></td>\n",
       " <td align=\"center\"><font size=\"2\">6/10/12</font></td>\n",
       " </tr>,\n",
       " <tr bgcolor=\"#ffffff\"><td><font size=\"2\"><b><a href=\"/movies/?page=intl&amp;country=IT&amp;id=fiveyearengagement.htm\">Italy</a></b></font></td>\n",
       " <td><font size=\"2\">UPI</font></td>\n",
       " <td align=\"center\"><font size=\"2\">9/27/12</font></td>\n",
       " <td align=\"right\"><font size=\"2\">$151,797</font></td>\n",
       " <td align=\"right\"><font size=\"2\">54.4%</font></td>\n",
       " <td align=\"right\"><font size=\"2\"><b>$278,869</b></font></td>\n",
       " <td align=\"center\"><font size=\"2\">10/7/12</font></td>\n",
       " </tr>,\n",
       " <tr bgcolor=\"#ffffff\"><td><font size=\"2\"><b><a href=\"/movies/?page=intl&amp;country=MX&amp;id=fiveyearengagement.htm\">Mexico</a></b></font></td>\n",
       " <td><font size=\"2\">-</font></td>\n",
       " <td align=\"center\"><font size=\"2\">8/10/12</font></td>\n",
       " <td align=\"right\"><font size=\"2\">$249,993</font></td>\n",
       " <td align=\"right\"><font size=\"2\">25.8%</font></td>\n",
       " <td align=\"right\"><font size=\"2\"><b>$968,967</b></font></td>\n",
       " <td align=\"center\"><font size=\"2\">9/30/12</font></td>\n",
       " </tr>,\n",
       " <tr bgcolor=\"#ffffff\"><td><font size=\"2\"><b><a href=\"/movies/?page=intl&amp;country=NZ&amp;id=fiveyearengagement.htm\">New Zealand</a></b></font></td>\n",
       " <td><font size=\"2\">UIP</font></td>\n",
       " <td align=\"center\"><font size=\"2\">5/3/12</font></td>\n",
       " <td align=\"right\"><font size=\"2\">$213,188</font></td>\n",
       " <td align=\"right\"><font size=\"2\">32.5%</font></td>\n",
       " <td align=\"right\"><font size=\"2\"><b>$655,404</b></font></td>\n",
       " <td align=\"center\"><font size=\"2\">6/10/12</font></td>\n",
       " </tr>,\n",
       " <tr bgcolor=\"#ffffff\"><td><font size=\"2\"><b><a href=\"/movies/?page=intl&amp;country=PL&amp;id=fiveyearengagement.htm\">Poland</a></b></font></td>\n",
       " <td><font size=\"2\">UIP</font></td>\n",
       " <td align=\"center\"><font size=\"2\">6/29/12</font></td>\n",
       " <td align=\"right\"><font size=\"2\">$44,575</font></td>\n",
       " <td align=\"right\"><font size=\"2\">28.3%</font></td>\n",
       " <td align=\"right\"><font size=\"2\"><b>$157,569</b></font></td>\n",
       " <td align=\"center\"><font size=\"2\">7/15/12</font></td>\n",
       " </tr>,\n",
       " <tr bgcolor=\"#ffffff\"><td><font size=\"2\"><b><a href=\"/movies/?page=intl&amp;country=R2&amp;id=fiveyearengagement.htm\">Russia - CIS</a></b></font></td>\n",
       " <td><font size=\"2\">UPI</font></td>\n",
       " <td align=\"center\"><font size=\"2\">6/28/12</font></td>\n",
       " <td align=\"right\"><font size=\"2\">$411,641</font></td>\n",
       " <td align=\"right\"><font size=\"2\">53.3%</font></td>\n",
       " <td align=\"right\"><font size=\"2\"><b>$772,370</b></font></td>\n",
       " <td align=\"center\"><font size=\"2\">7/22/12</font></td>\n",
       " </tr>,\n",
       " <tr bgcolor=\"#ffffff\"><td><font size=\"2\"><b><a href=\"/movies/?page=intl&amp;country=ZA&amp;id=fiveyearengagement.htm\">South Africa (Entire Region)</a></b></font></td>\n",
       " <td><font size=\"2\">UIP</font></td>\n",
       " <td align=\"center\"><font size=\"2\">10/5/12</font></td>\n",
       " <td align=\"right\"><font size=\"2\">$41,972</font></td>\n",
       " <td align=\"right\"><font size=\"2\">17.1%</font></td>\n",
       " <td align=\"right\"><font size=\"2\"><b>$246,165</b></font></td>\n",
       " <td align=\"center\"><font size=\"2\">12/23/12</font></td>\n",
       " </tr>,\n",
       " <tr bgcolor=\"#ffffff\"><td><font size=\"2\"><b><a href=\"/movies/?page=intl&amp;country=UE&amp;id=fiveyearengagement.htm\">United Arab Emirates</a></b></font></td>\n",
       " <td><font size=\"2\">UIP</font></td>\n",
       " <td align=\"center\"><font size=\"2\">5/10/12</font></td>\n",
       " <td align=\"right\"><font size=\"2\">$155,466</font></td>\n",
       " <td align=\"right\"><font size=\"2\">44.3%</font></td>\n",
       " <td align=\"right\"><font size=\"2\"><b>$350,666</b></font></td>\n",
       " <td align=\"center\"><font size=\"2\">6/3/12</font></td>\n",
       " </tr>,\n",
       " <tr bgcolor=\"#ffffff\"><td><font size=\"2\"><b><a href=\"/movies/?page=intl&amp;country=U3&amp;id=fiveyearengagement.htm\">Uruguay</a></b></font></td>\n",
       " <td><font size=\"2\">UPI</font></td>\n",
       " <td align=\"center\"><font size=\"2\">4/5/13</font></td>\n",
       " <td align=\"right\"><font size=\"2\">$7,985</font></td>\n",
       " <td align=\"right\"><font size=\"2\">48.1%</font></td>\n",
       " <td align=\"right\"><font size=\"2\"><b>$16,595</b></font></td>\n",
       " <td align=\"center\"><font size=\"2\">5/19/13</font></td>\n",
       " </tr>]"
      ]
     },
     "execution_count": 149,
     "metadata": {},
     "output_type": "execute_result"
    }
   ],
   "source": [
    "rows"
   ]
  },
  {
   "cell_type": "code",
   "execution_count": 164,
   "metadata": {
    "collapsed": false
   },
   "outputs": [
    {
     "name": "stdout",
     "output_type": "stream",
     "text": [
      "Country: Uruguay\n",
      "Foreign revenue: $16,595\n"
     ]
    }
   ],
   "source": [
    "for row in rows:\n",
    "    cells = row.find_all(\"td\")\n",
    "    country = cells[0].get_text()\n",
    "    domestic_revenue = cells[3].get_text()\n",
    "    foreign_revenue = cells[5].get_text()\n",
    "print \"Country: \" + country\n",
    "print \"Foreign revenue: \" + (foreign_revenue)"
   ]
  },
  {
   "cell_type": "code",
   "execution_count": 167,
   "metadata": {
    "collapsed": false
   },
   "outputs": [
    {
     "data": {
      "text/plain": [
       "bs4.element.ResultSet"
      ]
     },
     "execution_count": 167,
     "metadata": {},
     "output_type": "execute_result"
    }
   ],
   "source": [
    "type(rows)"
   ]
  },
  {
   "cell_type": "code",
   "execution_count": 186,
   "metadata": {
    "collapsed": false
   },
   "outputs": [
    {
     "name": "stdout",
     "output_type": "stream",
     "text": [
      "['FOREIGN TOTAL', 'Austria', 'Croatia', 'France', 'Iceland', 'Italy', 'Mexico', 'New Zealand', 'Poland', 'Russia - CIS', 'South Africa (Entire Region)', 'United Arab Emirates', 'Uruguay']\n",
      "['$25,074,223', '$1,126,806', '$44,480', '$109,842', '$38,952', '$278,869', '$968,967', '$655,404', '$157,569', '$772,370', '$246,165', '$350,666', '$16,595']\n"
     ]
    }
   ],
   "source": [
    "country = []\n",
    "foreign_rev = []\n",
    "title = soup_foreign_5year.find('title').get_text().split(\" (\")[0]\n",
    "foreign_dict = {}\n",
    "for row in rows:\n",
    "    cells = row.find_all(\"td\")\n",
    "    country.append(str(cells[0].get_text()))\n",
    "    foreign_rev.append(str(cells[5].get_text()))\n",
    "    \n",
    "print country\n",
    "print foreign_rev"
   ]
  },
  {
   "cell_type": "code",
   "execution_count": 187,
   "metadata": {
    "collapsed": false
   },
   "outputs": [
    {
     "name": "stdout",
     "output_type": "stream",
     "text": [
      "The Five-Year Engagement\n"
     ]
    }
   ],
   "source": [
    "print title"
   ]
  },
  {
   "cell_type": "code",
   "execution_count": 195,
   "metadata": {
    "collapsed": false
   },
   "outputs": [],
   "source": [
    "title = soup_foreign_5year.find('title').get_text().split(\" (\")[0]\n",
    "foreign_dict = {}\n",
    "for row in rows:\n",
    "    cells = row.find_all(\"td\")\n",
    "    foreign_dict.setdefault(title, []).append(tuple((cells[0].get_text(), cells[5].get_text())))"
   ]
  },
  {
   "cell_type": "code",
   "execution_count": 196,
   "metadata": {
    "collapsed": false
   },
   "outputs": [
    {
     "name": "stdout",
     "output_type": "stream",
     "text": [
      "{u'The Five-Year Engagement': [(u'FOREIGN TOTAL', u'$25,074,223'), (u'Austria', u'$1,126,806'), (u'Croatia', u'$44,480'), (u'France', u'$109,842'), (u'Iceland', u'$38,952'), (u'Italy', u'$278,869'), (u'Mexico', u'$968,967'), (u'New Zealand', u'$655,404'), (u'Poland', u'$157,569'), (u'Russia - CIS', u'$772,370'), (u'South Africa (Entire Region)', u'$246,165'), (u'United Arab Emirates', u'$350,666'), (u'Uruguay', u'$16,595')]}\n"
     ]
    }
   ],
   "source": [
    "print foreign_dict"
   ]
  },
  {
   "cell_type": "code",
   "execution_count": 254,
   "metadata": {
    "collapsed": true
   },
   "outputs": [],
   "source": [
    "with open('list_of_movie_urls.pkl', 'r') as f:\n",
    "    x = pickle.load(f)"
   ]
  },
  {
   "cell_type": "code",
   "execution_count": 255,
   "metadata": {
    "collapsed": false
   },
   "outputs": [
    {
     "data": {
      "text/plain": [
       "13316"
      ]
     },
     "execution_count": 255,
     "metadata": {},
     "output_type": "execute_result"
    }
   ],
   "source": [
    "len(x)"
   ]
  },
  {
   "cell_type": "code",
   "execution_count": null,
   "metadata": {
    "collapsed": true
   },
   "outputs": [],
   "source": []
  },
  {
   "cell_type": "code",
   "execution_count": null,
   "metadata": {
    "collapsed": false
   },
   "outputs": [],
   "source": []
  },
  {
   "cell_type": "code",
   "execution_count": 202,
   "metadata": {
    "collapsed": true
   },
   "outputs": [],
   "source": [
    "# packages to import\n",
    "import urllib2\n",
    "from bs4 import BeautifulSoup\n",
    "import re"
   ]
  },
  {
   "cell_type": "code",
   "execution_count": null,
   "metadata": {
    "collapsed": false
   },
   "outputs": [],
   "source": []
  },
  {
   "cell_type": "code",
   "execution_count": 257,
   "metadata": {
    "collapsed": false
   },
   "outputs": [],
   "source": [
    "for url in x:\n",
    "    if type(url) != str:\n",
    "        print url\n"
   ]
  },
  {
   "cell_type": "code",
   "execution_count": 258,
   "metadata": {
    "collapsed": false
   },
   "outputs": [],
   "source": [
    "split_x = []\n",
    "for url in x:\n",
    "    split_x.append(url.split(\"?\"))\n"
   ]
  },
  {
   "cell_type": "code",
   "execution_count": 259,
   "metadata": {
    "collapsed": false
   },
   "outputs": [
    {
     "data": {
      "text/plain": [
       "[['http://www.boxofficemojo.com/movies/', 'id=gratefuldawg.htm'],\n",
       " ['http://www.boxofficemojo.com/movies/', 'id=shrek2.htm'],\n",
       " ['http://www.boxofficemojo.com/movies/', 'id=portdjema.htm'],\n",
       " ['http://www.boxofficemojo.com/movies/', 'id=september.htm'],\n",
       " ['http://www.boxofficemojo.com/movies/', 'id=fantasticks.htm']]"
      ]
     },
     "execution_count": 259,
     "metadata": {},
     "output_type": "execute_result"
    }
   ],
   "source": [
    "split_x[:5]"
   ]
  },
  {
   "cell_type": "code",
   "execution_count": 260,
   "metadata": {
    "collapsed": false
   },
   "outputs": [],
   "source": [
    "foreign_urls = []\n",
    "for url in split_x:\n",
    "    foreign_urls.append(url[0] + \"?page=intl&\" + url[1])"
   ]
  },
  {
   "cell_type": "code",
   "execution_count": 261,
   "metadata": {
    "collapsed": false
   },
   "outputs": [
    {
     "data": {
      "text/plain": [
       "['http://www.boxofficemojo.com/movies/?page=intl&id=gratefuldawg.htm',\n",
       " 'http://www.boxofficemojo.com/movies/?page=intl&id=shrek2.htm',\n",
       " 'http://www.boxofficemojo.com/movies/?page=intl&id=portdjema.htm',\n",
       " 'http://www.boxofficemojo.com/movies/?page=intl&id=september.htm',\n",
       " 'http://www.boxofficemojo.com/movies/?page=intl&id=fantasticks.htm']"
      ]
     },
     "execution_count": 261,
     "metadata": {},
     "output_type": "execute_result"
    }
   ],
   "source": [
    "foreign_urls[:5]"
   ]
  },
  {
   "cell_type": "code",
   "execution_count": 262,
   "metadata": {
    "collapsed": true
   },
   "outputs": [],
   "source": [
    "with open('foreign_urls.pkl', 'w') as f:\n",
    "    pickle.dump(foreign_urls, f)"
   ]
  },
  {
   "cell_type": "code",
   "execution_count": 330,
   "metadata": {
    "collapsed": false
   },
   "outputs": [
    {
     "data": {
      "text/plain": [
       "['http://www.boxofficemojo.com/movies/?page=intl&id=shrek2.htm',\n",
       " 'http://www.boxofficemojo.com/movies/?page=intl&id=portdjema.htm']"
      ]
     },
     "execution_count": 330,
     "metadata": {},
     "output_type": "execute_result"
    }
   ],
   "source": [
    "hdr = {'User-Agent': 'Mozilla/5.0'}\n",
    "req = urllib2.Request(site,headers=hdr)\n",
    "page = urllib2.urlopen(req)foreign_urls[1:3]"
   ]
  },
  {
   "cell_type": "code",
   "execution_count": 356,
   "metadata": {
    "collapsed": false
   },
   "outputs": [
    {
     "name": "stdout",
     "output_type": "stream",
     "text": [
      "http://www.boxofficemojo.com/movies/?page=intl&id=sheshavingababy.htm\n",
      "http://www.boxofficemojo.com/movies/?page=intl&id=likefatherlikeson.htm\n",
      "http://www.boxofficemojo.com/movies/?page=intl&id=mymotherlikeswomen.htm\n"
     ]
    }
   ],
   "source": [
    "foreign_dict = {}\n",
    "for movie in foreign_urls:\n",
    "    hdr = {'User-Agent' : \"Mozilla/5.0 (Macintosh; Intel Mac OS X 10_10_2) AppleWebKit/537.36 (KHTML, like Gecko) Chrome/41.0.2272.118 Safari/537.36\"}\n",
    "    req = urllib2.Request(movie, headers=hdr)\n",
    "    try:\n",
    "        page = urllib2.urlopen(req)\n",
    "    except:\n",
    "        print movie\n",
    "    else:\n",
    "        soup = BeautifulSoup(page)\n",
    "        rows_odd = soup.find('table', border=\"3\").find('tr').find_all(bgcolor=\"#ffffff\")\n",
    "        rows_even = soup.find('table', border=\"3\").find('tr').find_all(bgcolor=\"#f4f4ff\")\n",
    "        title = soup.find('title').get_text().split(\" (\")[0]\n",
    "        for row in rows_odd:\n",
    "            cells = row.find_all(\"td\")\n",
    "            #print tuple((cells[0].get_text(), cells[5].get_text()))\n",
    "            try:\n",
    "                foreign_dict.setdefault(title, []).append(tuple((cells[0].get_text(), cells[5].get_text())))\n",
    "            except:\n",
    "                None\n",
    "            else:\n",
    "                None\n",
    "        for row in rows_even:\n",
    "            cells = row.find_all(\"td\")\n",
    "            try:\n",
    "                foreign_dict.setdefault(title, []).append(tuple((cells[0].get_text(), cells[5].get_text())))\n",
    "            except:\n",
    "                None\n",
    "            else:\n",
    "                None\n",
    "            #print tuple((cells[0].get_text(), cells[5].get_text()))"
   ]
  },
  {
   "cell_type": "code",
   "execution_count": 357,
   "metadata": {
    "collapsed": false
   },
   "outputs": [
    {
     "data": {
      "text/plain": [
       "13006"
      ]
     },
     "execution_count": 357,
     "metadata": {},
     "output_type": "execute_result"
    }
   ],
   "source": [
    "len(foreign_dict.items())"
   ]
  },
  {
   "cell_type": "code",
   "execution_count": 359,
   "metadata": {
    "collapsed": true
   },
   "outputs": [],
   "source": [
    "with open('foreign_dict.pkl', 'w') as f:\n",
    "    pickle.dump(foreign_dict, f)"
   ]
  },
  {
   "cell_type": "code",
   "execution_count": 360,
   "metadata": {
    "collapsed": true
   },
   "outputs": [],
   "source": [
    "with open('list_of_movie_urls.pkl', 'r') as f:\n",
    "    x = pickle.load(f)"
   ]
  },
  {
   "cell_type": "code",
   "execution_count": 378,
   "metadata": {
    "collapsed": false
   },
   "outputs": [
    {
     "name": "stdout",
     "output_type": "stream",
     "text": [
      "http://www.boxofficemojo.com/movies/?id=shrek2.htm\n"
     ]
    }
   ],
   "source": [
    "movie = x[1]\n",
    "print movie"
   ]
  },
  {
   "cell_type": "code",
   "execution_count": 364,
   "metadata": {
    "collapsed": true
   },
   "outputs": [],
   "source": [
    "def get_movie_value(soup, field_name):\n",
    "    \"\"\"\n",
    "    takes a string attribute of a movie on the page, and\n",
    "    returns the string in the next sibling object (the value for that attribute)\n",
    "    \"\"\"\n",
    "    obj = soup.find(text = re.compile(field_name))\n",
    "    if not obj:\n",
    "        return None\n",
    "    next_sibling = obj.findNextSibling()\n",
    "    if next_sibling:\n",
    "        return next_sibling.text\n",
    "    else:\n",
    "        return None"
   ]
  },
  {
   "cell_type": "code",
   "execution_count": 397,
   "metadata": {
    "collapsed": false
   },
   "outputs": [
    {
     "ename": "IndentationError",
     "evalue": "unexpected indent (<ipython-input-397-a888f2580072>, line 4)",
     "output_type": "error",
     "traceback": [
      "\u001b[0;36m  File \u001b[0;32m\"<ipython-input-397-a888f2580072>\"\u001b[0;36m, line \u001b[0;32m4\u001b[0m\n\u001b[0;31m    hdr = {'User-Agent' : \"Mozilla/5.0 (Macintosh; Intel Mac OS X 10_10_2) AppleWebKit/537.36 (KHTML, like Gecko) Chrome/41.0.2272.118 Safari/537.36\"}\u001b[0m\n\u001b[0m    ^\u001b[0m\n\u001b[0;31mIndentationError\u001b[0m\u001b[0;31m:\u001b[0m unexpected indent\n"
     ]
    }
   ],
   "source": [
    "domestic_dict = {}\n",
    "#for movie in x[:5]:\n",
    "movie = x[3:4]\n",
    "    hdr = {'User-Agent' : \"Mozilla/5.0 (Macintosh; Intel Mac OS X 10_10_2) AppleWebKit/537.36 (KHTML, like Gecko) Chrome/41.0.2272.118 Safari/537.36\"}\n",
    "    req = urllib2.Request(movie, headers=hdr)\n",
    "    try:\n",
    "        page = urllib2.urlopen(req)\n",
    "    except:\n",
    "        print movie\n",
    "    else:\n",
    "        soup = BeautifulSoup(page)\n",
    "        title_string = soup.find(\"title\").text\n",
    "        title =  title_string.split(\" (\")[0].strip()\n",
    "        dtg = get_movie_value(soup, \"Domestic Total\")\n",
    "        runtime = get_movie_value(soup, \"Runtime\")\n",
    "        rating = get_movie_value(soup, \"MPAA Rating\")\n",
    "        release_date = get_movie_value(soup, \"Release Date\")\n",
    "        genre = get_movie_value(soup, \"Genre\")\n",
    "        production_budget = get_movie_value(soup, \"Production Budget\")\n",
    "        worldwide = get_movie_value(soup, \"Worldwide\")\n",
    "        director = get_movie_value(soup, \"Director\")\n",
    "        writers = get_movie_value(soup, \"Writers\")\n",
    "        actors = get_movie_value(soup, \"Actors\")\n",
    "        domestic_dict.setdefault(title, []).append((dtg, runtime, rating, release_date, genre,\n",
    "                                                             production_budget, worldwide, director,\n",
    "                                                             writers, actors))"
   ]
  },
  {
   "cell_type": "code",
   "execution_count": 379,
   "metadata": {
    "collapsed": false
   },
   "outputs": [
    {
     "name": "stdout",
     "output_type": "stream",
     "text": [
      "http://www.boxofficemojo.com/movies/?id=shrek2.htm\n",
      "['http://www.boxofficemojo.com/movies/?id=gratefuldawg.htm', 'http://www.boxofficemojo.com/movies/?id=shrek2.htm', 'http://www.boxofficemojo.com/movies/?id=portdjema.htm', 'http://www.boxofficemojo.com/movies/?id=september.htm', 'http://www.boxofficemojo.com/movies/?id=fantasticks.htm']\n"
     ]
    }
   ],
   "source": [
    "print str(movie)\n",
    "print str(x[:5])"
   ]
  },
  {
   "cell_type": "code",
   "execution_count": 411,
   "metadata": {
    "collapsed": false
   },
   "outputs": [
    {
     "name": "stdout",
     "output_type": "stream",
     "text": [
      "http://www.boxofficemojo.com/movies/?id=sheshavingababy.htm\n",
      "http://www.boxofficemojo.com/movies/?id=likefatherlikeson.htm\n",
      "http://www.boxofficemojo.com/movies/?id=mymotherlikeswomen.htm\n"
     ]
    }
   ],
   "source": [
    "domestic_dict = {}\n",
    "for movie in x:\n",
    "    movie = str(movie)\n",
    "    hdr = {'User-Agent' : \"Mozilla/5.0 (Macintosh; Intel Mac OS X 10_10_2) AppleWebKit/537.36 (KHTML, like Gecko) Chrome/41.0.2272.118 Safari/537.36\"}\n",
    "    req = urllib2.Request(movie, headers=hdr)\n",
    "    try:\n",
    "        page = urllib2.urlopen(req)\n",
    "    except:\n",
    "        print movie\n",
    "    else:\n",
    "        soup = BeautifulSoup(page)\n",
    "        title_string = soup.find(\"title\").text\n",
    "        title =  title_string.split(\" (\")[0].strip()\n",
    "        dtg = get_movie_value(soup, \"Domestic Total\")\n",
    "        runtime = get_movie_value(soup, \"Runtime\")\n",
    "        rating = get_movie_value(soup, \"MPAA Rating\")\n",
    "        release_date = get_movie_value(soup, \"Release Date\")\n",
    "        genre = get_movie_value(soup, \"Genre: \")\n",
    "        production_budget = get_movie_value(soup, \"Production Budget\")\n",
    "        worldwide = get_movie_value(soup, \"Worldwide:\")\n",
    "        director = get_movie_value(soup, \"Director\")\n",
    "        writers = get_movie_value(soup, \"Writers:\")\n",
    "        actors = get_movie_value(soup, \"Actors:\")\n",
    "        domestic_dict.setdefault(title, []).append(tuple((dtg, runtime, rating, release_date, genre,\n",
    "                                                             production_budget)))\n",
    "\n"
   ]
  },
  {
   "cell_type": "code",
   "execution_count": 412,
   "metadata": {
    "collapsed": false
   },
   "outputs": [
    {
     "data": {
      "text/plain": [
       "13006"
      ]
     },
     "execution_count": 412,
     "metadata": {},
     "output_type": "execute_result"
    }
   ],
   "source": [
    "len(domestic_dict)"
   ]
  },
  {
   "cell_type": "code",
   "execution_count": 417,
   "metadata": {
    "collapsed": false
   },
   "outputs": [
    {
     "data": {
      "text/plain": [
       "[(u'Vampires Suck',\n",
       "  [(u'$36,661,504',\n",
       "    u'1 hrs. 20 min.',\n",
       "    u'PG-13',\n",
       "    u'August 18, 2010',\n",
       "    u'Horror Comedy',\n",
       "    u'$20 million')]),\n",
       " (u'The Road',\n",
       "  [(u'$92,476',\n",
       "    u'1 hrs. 50 min.',\n",
       "    u'R',\n",
       "    u'May 11, 2012',\n",
       "    u'Foreign / Horror',\n",
       "    u'N/A'),\n",
       "   (u'$8,117,000',\n",
       "    u'1 hrs. 59 min.',\n",
       "    u'R',\n",
       "    u'November 25, 2009',\n",
       "    u'Drama / Thriller',\n",
       "    u'$25 million')]),\n",
       " (u'Last Passenger',\n",
       "  [(u'$14,806',\n",
       "    u'1 hrs. 37 min.',\n",
       "    u'R',\n",
       "    u'April 25, 2014',\n",
       "    u'Action Thriller',\n",
       "    u'N/A')]),\n",
       " (u'Duck Season',\n",
       "  [(u'$147,551',\n",
       "    u'1 hrs. 27 min.',\n",
       "    u'R',\n",
       "    u'March 10, 2006',\n",
       "    u'Foreign',\n",
       "    u'N/A')]),\n",
       " (u'1,000 Times Good Night',\n",
       "  [(u'$53,895',\n",
       "    u'1 hrs. 57 min.',\n",
       "    u'Unrated',\n",
       "    u'October 24, 2014',\n",
       "    u'Foreign',\n",
       "    u'N/A')]),\n",
       " (u'Rob Roy',\n",
       "  [(u'$31,596,911',\n",
       "    u'2 hrs. 19 min.',\n",
       "    u'R',\n",
       "    u'April 7, 1995',\n",
       "    u'Period Adventure',\n",
       "    u'N/A')]),\n",
       " (u'Poetry',\n",
       "  [(u'$356,149',\n",
       "    u'2 hrs. 19 min.',\n",
       "    u'Unrated',\n",
       "    u'February 11, 2011',\n",
       "    u'Foreign',\n",
       "    u'N/A')]),\n",
       " (u'Sugar',\n",
       "  [(u'$1,082,124',\n",
       "    u'1 hrs. 54 min.',\n",
       "    u'R',\n",
       "    u'April 3, 2009',\n",
       "    u'Sports Drama',\n",
       "    u'N/A')]),\n",
       " (u'The Undefeated',\n",
       "  [(u'$116,381',\n",
       "    u'1 hrs. 53 min.',\n",
       "    u'PG-13',\n",
       "    u'July 15, 2011',\n",
       "    u'Documentary',\n",
       "    u'N/A')])]"
      ]
     },
     "execution_count": 417,
     "metadata": {},
     "output_type": "execute_result"
    }
   ],
   "source": [
    "domestic_dict.items()[1:10]"
   ]
  },
  {
   "cell_type": "code",
   "execution_count": null,
   "metadata": {
    "collapsed": true
   },
   "outputs": [],
   "source": []
  }
 ],
 "metadata": {
  "kernelspec": {
   "display_name": "Python 2",
   "language": "python",
   "name": "python2"
  },
  "language_info": {
   "codemirror_mode": {
    "name": "ipython",
    "version": 2
   },
   "file_extension": ".py",
   "mimetype": "text/x-python",
   "name": "python",
   "nbconvert_exporter": "python",
   "pygments_lexer": "ipython2",
   "version": "2.7.9"
  }
 },
 "nbformat": 4,
 "nbformat_minor": 0
}
